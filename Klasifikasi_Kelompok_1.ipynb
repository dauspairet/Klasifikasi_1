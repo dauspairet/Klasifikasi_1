{
 "cells": [
  {
   "cell_type": "markdown",
   "id": "4cf7d295",
   "metadata": {},
   "source": [
    "# Kelompok 1\n",
    "Destira Lestari Saraswati 2100506 <br>\n",
    "Dicki Fathurohman 2103842 <br>\n",
    "Mia Karisma Haq 2102165 <br>\n",
    "Muhamad Firdaus 2101995 \n",
    "\n",
    "# **Soal Latihan Klasifikasi**\n",
    "Memprediksi apakah setelah membeli customer akan mengembalikan barang (di Eropa ada perlindungan konsumen yang membuat konsumen dapat mengembalikan barang tanpa alasan asal dalam periode tertentu). Pengembalian barang yang berlebih dapat merugikan pemilik toko. "
   ]
  },
  {
   "cell_type": "markdown",
   "id": "2d5db906",
   "metadata": {},
   "source": [
    "# LOAD DATASET"
   ]
  },
  {
   "cell_type": "code",
   "execution_count": 1,
   "id": "c7f674d0",
   "metadata": {
    "scrolled": false
   },
   "outputs": [],
   "source": [
    "%matplotlib inline\n",
    "import warnings\n",
    "warnings.simplefilter(action='ignore', category=FutureWarning)\n",
    "import numpy as np\n",
    "import pandas as pd\n",
    "import matplotlib.pyplot as plt\n",
    "import seaborn as sns\n",
    "\n",
    "url = 'https://raw.githubusercontent.com/dauspairet/Data_Mining-T2_Kelompok-Klasifikasi/main/orders_class.csv'\n",
    "df_class = pd.read_csv(url)\n",
    "\n",
    "url2 = 'https://raw.githubusercontent.com/dauspairet/order-train/main/orders_train.csv'\n",
    "df_train = pd.read_csv(url2)"
   ]
  },
  {
   "cell_type": "markdown",
   "id": "ea8b99be",
   "metadata": {},
   "source": [
    "# GANTI '?'"
   ]
  },
  {
   "cell_type": "code",
   "execution_count": 2,
   "id": "4d365004",
   "metadata": {},
   "outputs": [],
   "source": [
    "df_class = df_class.replace('?', np.nan)\n",
    "df_train = df_train.replace('?', np.nan)"
   ]
  },
  {
   "cell_type": "markdown",
   "id": "b162c4af",
   "metadata": {},
   "source": [
    "# UBAH TIPE DATA DATE"
   ]
  },
  {
   "cell_type": "code",
   "execution_count": 3,
   "id": "d11755ec",
   "metadata": {},
   "outputs": [],
   "source": [
    "df_class['orderDate']= pd.to_datetime(df_class['orderDate'])\n",
    "df_class['deliveryDate']= pd.to_datetime(df_class['deliveryDate'])\n",
    "df_class['dateOfBirth'] = pd.to_datetime(df_class['dateOfBirth'])\n",
    "df_class['creationDate'] = pd.to_datetime(df_class['creationDate'])\n",
    "\n",
    "# Mengubah tipe data menjadi tanggal\n",
    "df_train['orderDate']= pd.to_datetime(df_train['orderDate'])\n",
    "df_train['deliveryDate']= pd.to_datetime(df_train['deliveryDate'])\n",
    "df_train['creationDate'] = pd.to_datetime(df_train['creationDate'])\n",
    "\n",
    "# Mengganti nilai '1655-04-19' dengan agar konversi dapat berhasil dilakukan\n",
    "# Jika tidak diganti akan muncul error dikarenakan tahun yang terlalu lampau\n",
    "df_train['dateOfBirth'] = df_train['dateOfBirth'].replace('1655-04-19', np.nan)\n",
    "df_train['dateOfBirth'] = pd.to_datetime(df_train['dateOfBirth'])"
   ]
  },
  {
   "cell_type": "markdown",
   "id": "7317c316",
   "metadata": {},
   "source": [
    "# HITUNG USIA USER"
   ]
  },
  {
   "cell_type": "code",
   "execution_count": 4,
   "id": "9a5d10ba",
   "metadata": {},
   "outputs": [],
   "source": [
    "#membuat kolom baru yang isinya hanya tahun kelahiran saja\n",
    "df_class['year'] = df_class['dateOfBirth'].dt.year\n",
    "df_train['year'] = df_train['dateOfBirth'].dt.year\n",
    "\n",
    "#hitung umur\n",
    "df_class['age'] = 2013 - df_class['year']\n",
    "df_train['age'] = 2013 - df_train['year']\n",
    "\n",
    "# Mengambil rata-rata umur\n",
    "rata_umur = df_class['age'].mean()\n",
    "df_class['age'] = df_class['age'].fillna(rata_umur)\n",
    "\n",
    "# Mengambil rata-rata umur\n",
    "rata_umur = df_train['age'].mean()\n",
    "df_train['age'] = df_train['age'].fillna(rata_umur)\n",
    "\n",
    "#jadikan int\n",
    "df_train['age'] = df_train['age'].astype(\"int\")\n",
    "df_class['age'] = df_class['age'].astype(\"int\")"
   ]
  },
  {
   "cell_type": "markdown",
   "id": "ab6eb2a0",
   "metadata": {},
   "source": [
    "# Warna kosong diisi unknown"
   ]
  },
  {
   "cell_type": "code",
   "execution_count": 5,
   "id": "c96572e5",
   "metadata": {},
   "outputs": [],
   "source": [
    "df_class['color'].fillna(\"unknown\", inplace=True)\n",
    "df_train['color'].fillna(\"unknown\", inplace=True)\n",
    "\n",
    "#ubah tipe datanya\n",
    "df_class['color'] = df_class['color'].astype(\"category\")\n",
    "df_train['color'] = df_train['color'].astype(\"category\")"
   ]
  },
  {
   "cell_type": "markdown",
   "id": "f8e03dea",
   "metadata": {},
   "source": [
    "# Hitung usia akun dalam bulan"
   ]
  },
  {
   "cell_type": "code",
   "execution_count": 6,
   "id": "9189c296",
   "metadata": {},
   "outputs": [],
   "source": [
    "df_train['accountAge'] = ((df_train.orderDate - df_train.creationDate)/np.timedelta64(1, 'M'))\n",
    "df_class['accountAge'] = ((df_class.orderDate - df_class.creationDate)/np.timedelta64(1, 'M'))\n",
    "\n",
    "#ubah tipe datanya\n",
    "df_train['accountAge'] = df_train['accountAge'].astype(\"int\")\n",
    "df_class['accountAge'] = df_class['accountAge'].astype(\"int\")"
   ]
  },
  {
   "cell_type": "markdown",
   "id": "08f6d1b1",
   "metadata": {},
   "source": [
    "# Hitung selisih hari pemesanan & pengiriman"
   ]
  },
  {
   "cell_type": "code",
   "execution_count": 7,
   "id": "1c8a1bd5",
   "metadata": {},
   "outputs": [],
   "source": [
    "df_class['shippingDays'] = ((df_class.deliveryDate - df_class.orderDate)/np.timedelta64(1, 'D'))\n",
    "df_train['shippingDays'] = ((df_train.deliveryDate - df_train.orderDate)/np.timedelta64(1, 'D'))\n",
    "\n",
    "#ubah data minus jadi NULL\n",
    "df_class.loc[df_class['shippingDays'] < 0, 'shippingDays'] = np.nan\n",
    "df_train.loc[df_train['shippingDays'] < 0, 'shippingDays'] = np.nan\n",
    "\n",
    "#isi pake rata-rata\n",
    "rata_shipping = df_class['shippingDays'].mean() #hasilnya 16 dibulatkan\n",
    "df_class['shippingDays'].fillna(rata_shipping, inplace=True)\n",
    "\n",
    "rata_shipping = df_train['shippingDays'].mean()\n",
    "df_train['shippingDays'].fillna(rata_shipping, inplace=True)\n",
    "\n",
    "#ubah tipe datanya\n",
    "df_train['shippingDays'] = df_train['shippingDays'].astype(\"int\")\n",
    "df_class['shippingDays'] = df_class['shippingDays'].astype(\"int\")"
   ]
  },
  {
   "cell_type": "markdown",
   "id": "d982fb1e",
   "metadata": {},
   "source": [
    "# Hitung bulan dan Season Order"
   ]
  },
  {
   "cell_type": "code",
   "execution_count": 8,
   "id": "fd52f86e",
   "metadata": {},
   "outputs": [],
   "source": [
    "#buat kolom bulan pengiriman\n",
    "df_class['month_order'] = df_class['orderDate'].dt.month\n",
    "df_train['month_order'] = df_train['orderDate'].dt.month\n",
    "\n",
    "#kolom season\n",
    "df_class['season'] = df_class['month_order']\n",
    "df_train['season'] = df_train['month_order']\n",
    "\n",
    "#ubah jadi nama bulan\n",
    "df_train['month_order'] = df_train['month_order'].replace(1, 'January')\n",
    "df_train['month_order'] = df_train['month_order'].replace(2, 'February')\n",
    "df_train['month_order'] = df_train['month_order'].replace(3, 'March')\n",
    "df_train['month_order'] = df_train['month_order'].replace(4, 'April')\n",
    "df_train['month_order'] = df_train['month_order'].replace(5, 'May')\n",
    "df_train['month_order'] = df_train['month_order'].replace(6, 'June')\n",
    "df_train['month_order'] = df_train['month_order'].replace(7, 'July')\n",
    "df_train['month_order'] = df_train['month_order'].replace(8, 'August')\n",
    "df_train['month_order'] = df_train['month_order'].replace(9, 'September')\n",
    "df_train['month_order'] = df_train['month_order'].replace(10, 'October')\n",
    "df_train['month_order'] = df_train['month_order'].replace(11, 'November')\n",
    "df_train['month_order'] = df_train['month_order'].replace(12, 'December')\n",
    "\n",
    "df_class['month_order'] = df_class['month_order'].replace(1, 'January')\n",
    "df_class['month_order'] = df_class['month_order'].replace(2, 'February')\n",
    "df_class['month_order'] = df_class['month_order'].replace(3, 'March')\n",
    "df_class['month_order'] = df_class['month_order'].replace(4, 'April')\n",
    "df_class['month_order'] = df_class['month_order'].replace(5, 'May')\n",
    "df_class['month_order'] = df_class['month_order'].replace(6, 'June')\n",
    "df_class['month_order'] = df_class['month_order'].replace(7, 'July')\n",
    "df_class['month_order'] = df_class['month_order'].replace(8, 'August')\n",
    "df_class['month_order'] = df_class['month_order'].replace(9, 'September')\n",
    "df_class['month_order'] = df_class['month_order'].replace(10, 'October')\n",
    "df_class['month_order'] = df_class['month_order'].replace(11, 'November')\n",
    "df_class['month_order'] = df_class['month_order'].replace(12, 'December')\n",
    "\n",
    "#ubah jadi season\n",
    "df_train['season'] = df_train['season'].replace(1, 'Winter')\n",
    "df_train['season'] = df_train['season'].replace(2, 'Winter')\n",
    "df_train['season'] = df_train['season'].replace(3, 'Spring')\n",
    "df_train['season'] = df_train['season'].replace(4, 'Spring')\n",
    "df_train['season'] = df_train['season'].replace(5, 'Spring')\n",
    "df_train['season'] = df_train['season'].replace(6, 'Summer')\n",
    "df_train['season'] = df_train['season'].replace(7, 'Summer')\n",
    "df_train['season'] = df_train['season'].replace(8, 'Summer')\n",
    "df_train['season'] = df_train['season'].replace(9, 'Autumn')\n",
    "df_train['season'] = df_train['season'].replace(11, 'Autumn')\n",
    "df_train['season'] = df_train['season'].replace(10, 'Autumn')\n",
    "df_train['season'] = df_train['season'].replace(12, 'Winter')\n",
    "\n",
    "df_class['season'] = df_class['season'].replace(1, 'Winter')\n",
    "df_class['season'] = df_class['season'].replace(2, 'Winter')\n",
    "df_class['season'] = df_class['season'].replace(3, 'Spring')\n",
    "df_class['season'] = df_class['season'].replace(4, 'Spring')\n",
    "df_class['season'] = df_class['season'].replace(5, 'Spring')\n",
    "df_class['season'] = df_class['season'].replace(6, 'Summer')\n",
    "df_class['season'] = df_class['season'].replace(7, 'Summer')\n",
    "df_class['season'] = df_class['season'].replace(8, 'Summer')\n",
    "df_class['season'] = df_class['season'].replace(9, 'Autumn')\n",
    "df_class['season'] = df_class['season'].replace(11, 'Autumn')\n",
    "df_class['season'] = df_class['season'].replace(10, 'Autumn')\n",
    "df_class['season'] = df_class['season'].replace(12, 'Winter')\n",
    "\n",
    "#ubah tipe datanya\n",
    "df_class['month_order'] = df_class['month_order'].astype(\"category\")\n",
    "df_class['season'] = df_class['season'].astype(\"category\")\n",
    "\n",
    "df_train['month_order'] = df_train['month_order'].astype(\"category\")\n",
    "df_train['season'] = df_train['season'].astype(\"category\")"
   ]
  },
  {
   "cell_type": "markdown",
   "id": "e00eb9a0",
   "metadata": {},
   "source": [
    "# UBAH SIZE"
   ]
  },
  {
   "cell_type": "code",
   "execution_count": 9,
   "id": "ea5538c1",
   "metadata": {},
   "outputs": [],
   "source": [
    "#hapus tanda '+' pada data\n",
    "df_class['size'] = df_class['size'].str.replace('+', '', regex=True)\n",
    "df_train['size'] = df_train['size'].str.replace('+', '', regex=True)\n",
    "\n",
    "#data size yang penulisannya belum kapital, diganti menjadi kapital\n",
    "df_class['size'] = df_class['size'].replace('xs', 'XS')\n",
    "df_class['size'] = df_class['size'].replace('s', 'S')\n",
    "df_class['size'] = df_class['size'].replace('m', 'M')\n",
    "df_class['size'] = df_class['size'].replace('l', 'L')\n",
    "df_class['size'] = df_class['size'].replace('xl', 'XL')\n",
    "df_class['size'] = df_class['size'].replace('xxl', 'XXL')\n",
    "df_class['size'] = df_class['size'].replace('xxxl', 'XXXL')\n",
    "\n",
    "df_train['size'] = df_train['size'].replace('xs', 'XS')\n",
    "df_train['size'] = df_train['size'].replace('s', 'S')\n",
    "df_train['size'] = df_train['size'].replace('m', 'M')\n",
    "df_train['size'] = df_train['size'].replace('l', 'L')\n",
    "df_train['size'] = df_train['size'].replace('xl', 'XL')\n",
    "df_train['size'] = df_train['size'].replace('xxl', 'XXL')\n",
    "df_train['size'] = df_train['size'].replace('xxxl', 'XXXL')\n",
    "\n",
    "#size akan di konversi ke angka terlebih dahulu\n",
    "df_class['size'] = df_class['size'].replace('XS', 36)\n",
    "df_class['size'] = df_class['size'].replace('S', 38)\n",
    "df_class['size'] = df_class['size'].replace('M', 40)\n",
    "df_class['size'] = df_class['size'].replace('L', 42)\n",
    "df_class['size'] = df_class['size'].replace('XL', 44)\n",
    "df_class['size'] = df_class['size'].replace('XXL', 46)\n",
    "df_class['size'] = df_class['size'].replace('XXXL', 48)\n",
    "\n",
    "df_train['size'] = df_train['size'].replace('XS', 36)\n",
    "df_train['size'] = df_train['size'].replace('S', 38)\n",
    "df_train['size'] = df_train['size'].replace('M', 40)\n",
    "df_train['size'] = df_train['size'].replace('L', 42)\n",
    "df_train['size'] = df_train['size'].replace('XL', 44)\n",
    "df_train['size'] = df_train['size'].replace('XXL', 46)\n",
    "df_train['size'] = df_train['size'].replace('XXXL', 48)\n",
    "\n",
    "#data yang kosong, atau unsized diganti menjadi 0\n",
    "df_class['size'] = df_class['size'].replace('unsized', 0)\n",
    "df_class['size'] = df_class['size'].replace(np.nan, 0)\n",
    "\n",
    "df_train['size'] = df_train['size'].replace('unsized', 0)\n",
    "df_train['size'] = df_train['size'].replace(np.nan, 0)\n",
    "\n",
    "#ubah jadi int dan isi median\n",
    "df_class['size'] = df_class['size'].astype(\"int\")\n",
    "df_classCol = df_class['size']\n",
    "df_classCol.replace(to_replace = 0, value = df_classCol.median(), inplace=True)\n",
    "\n",
    "df_train['size'] = df_train['size'].astype(\"int\")\n",
    "df_trainCol = df_train['size']\n",
    "df_trainCol.replace(to_replace = 0, value = df_trainCol.median(), inplace=True)\n",
    "\n",
    "#jika lebih kecil dari 36 (nilai angka satuan dan belasan pada data)\n",
    "df_class.loc[df_class['size'] < 36, 'size'] += 32\n",
    "df_train.loc[df_train['size'] < 36, 'size'] += 32\n",
    "\n",
    "#jika melebihi dari 48 maka akan diganti menjadi 48\n",
    "#sehingga saat di konversi menjadi kategori max nay yaitu XXXL\n",
    "df_class.loc[df_class['size'] > 48, 'size'] = 48\n",
    "df_train.loc[df_train['size'] > 48, 'size'] = 48\n",
    "\n",
    "#selaraskan size agar mudah dikonversi ke abjad\n",
    "df_class.loc[df_class['size'].between(36, 38, inclusive=False), 'size'] = 36\n",
    "df_class.loc[df_class['size'].between(38, 40, inclusive=False), 'size'] = 38\n",
    "df_class.loc[df_class['size'].between(40, 42, inclusive=False), 'size'] = 40\n",
    "df_class.loc[df_class['size'].between(42, 44, inclusive=False), 'size'] = 42\n",
    "df_class.loc[df_class['size'].between(44, 46, inclusive=False), 'size'] = 44\n",
    "df_class.loc[df_class['size'].between(46, 48, inclusive=False), 'size'] = 46\n",
    "\n",
    "df_train.loc[df_train['size'].between(36, 38, inclusive=False), 'size'] = 36\n",
    "df_train.loc[df_train['size'].between(38, 40, inclusive=False), 'size'] = 38\n",
    "df_train.loc[df_train['size'].between(40, 42, inclusive=False), 'size'] = 40\n",
    "df_train.loc[df_train['size'].between(42, 44, inclusive=False), 'size'] = 42\n",
    "df_train.loc[df_train['size'].between(44, 46, inclusive=False), 'size'] = 44\n",
    "df_train.loc[df_train['size'].between(46, 48, inclusive=False), 'size'] = 46\n",
    "\n",
    "# Mengubah tipe data menjadi string terlebih dahulu agar angka dapat diganti menjadi huruf\n",
    "df_class['size'] = df_class['size'].astype(\"str\")\n",
    "df_train['size'] = df_train['size'].astype(\"str\")\n",
    "\n",
    "# Mengganti nilai angka menjadi huruf\n",
    "df_class.loc[df_class['size'] < '36', 'size'] = 'XXS'\n",
    "df_class['size'] = df_class['size'].replace('36', 'XS')\n",
    "df_class['size'] = df_class['size'].replace('38', 'S')\n",
    "df_class['size'] = df_class['size'].replace('40', 'M')\n",
    "df_class['size'] = df_class['size'].replace('42', 'L')\n",
    "df_class['size'] = df_class['size'].replace('44', 'XL')\n",
    "df_class['size'] = df_class['size'].replace('46', 'XXL')\n",
    "df_class['size'] = df_class['size'].replace('48', 'XXXL')\n",
    "\n",
    "df_train.loc[df_train['size'] < '36', 'size'] = 'XXS'\n",
    "df_train['size'] = df_train['size'].replace('36', 'XS')\n",
    "df_train['size'] = df_train['size'].replace('38', 'S')\n",
    "df_train['size'] = df_train['size'].replace('40', 'M')\n",
    "df_train['size'] = df_train['size'].replace('42', 'L')\n",
    "df_train['size'] = df_train['size'].replace('44', 'XL')\n",
    "df_train['size'] = df_train['size'].replace('46', 'XXL')\n",
    "df_train['size'] = df_train['size'].replace('48', 'XXXL')\n",
    "\n",
    "# Mengubah tipe data menjadi kategori\n",
    "df_class['size'] = df_class['size'].astype(\"category\")\n",
    "df_train['size'] = df_train['size'].astype(\"category\")"
   ]
  },
  {
   "cell_type": "code",
   "execution_count": 10,
   "id": "7616506a",
   "metadata": {},
   "outputs": [],
   "source": [
    "#ubah yang masih objek\n",
    "df_train['salutation'] = df_train['salutation'].astype(\"category\")\n",
    "df_train['state'] = df_train['state'].astype(\"category\")\n",
    "\n",
    "df_class['salutation'] = df_class['salutation'].astype(\"category\")\n",
    "df_class['state'] = df_class['state'].astype(\"category\")"
   ]
  },
  {
   "cell_type": "code",
   "execution_count": 11,
   "id": "a5578110",
   "metadata": {},
   "outputs": [],
   "source": [
    "df_train['percent_return'] = df_train.groupby('customerID')['returnShipment'].transform('sum') / df_train.groupby('customerID')['returnShipment'].transform('count')\n",
    "\n",
    "#buat data class nya\n",
    "# df_class['percent_return'] = df_class.groupby('itemID')['returnShipment'].transform('sum') / df_class.groupby('itemID')['returnShipment'].transform('count')"
   ]
  },
  {
   "cell_type": "markdown",
   "id": "42dd605d",
   "metadata": {},
   "source": [
    "# Hapus kolom yang tidak digunakan"
   ]
  },
  {
   "cell_type": "code",
   "execution_count": 12,
   "id": "22159e6b",
   "metadata": {},
   "outputs": [],
   "source": [
    "# hapus kolom yang tidak digunakan\n",
    "df_class = df_class.drop(['orderItemID', 'dateOfBirth', 'year', 'orderDate', 'deliveryDate', 'creationDate'], axis = 1)\n",
    "df_train = df_train.drop(['orderItemID', 'dateOfBirth', 'year', 'orderDate', 'deliveryDate', 'creationDate'], axis = 1)"
   ]
  },
  {
   "cell_type": "code",
   "execution_count": 13,
   "id": "d53f1eda",
   "metadata": {},
   "outputs": [
    {
     "name": "stdout",
     "output_type": "stream",
     "text": [
      "<class 'pandas.core.frame.DataFrame'>\n",
      "RangeIndex: 50078 entries, 0 to 50077\n",
      "Data columns (total 13 columns):\n",
      " #   Column          Non-Null Count  Dtype   \n",
      "---  ------          --------------  -----   \n",
      " 0   itemID          50078 non-null  int64   \n",
      " 1   size            50078 non-null  category\n",
      " 2   color           50078 non-null  category\n",
      " 3   manufacturerID  50078 non-null  int64   \n",
      " 4   price           50078 non-null  float64 \n",
      " 5   customerID      50078 non-null  int64   \n",
      " 6   salutation      50078 non-null  category\n",
      " 7   state           50078 non-null  category\n",
      " 8   age             50078 non-null  int32   \n",
      " 9   accountAge      50078 non-null  int32   \n",
      " 10  shippingDays    50078 non-null  int32   \n",
      " 11  month_order     50078 non-null  category\n",
      " 12  season          50078 non-null  category\n",
      "dtypes: category(6), float64(1), int32(3), int64(3)\n",
      "memory usage: 2.4 MB\n"
     ]
    }
   ],
   "source": [
    "df_class.info()"
   ]
  },
  {
   "cell_type": "code",
   "execution_count": 14,
   "id": "0731aaea",
   "metadata": {
    "scrolled": true
   },
   "outputs": [
    {
     "name": "stdout",
     "output_type": "stream",
     "text": [
      "<class 'pandas.core.frame.DataFrame'>\n",
      "RangeIndex: 481092 entries, 0 to 481091\n",
      "Data columns (total 15 columns):\n",
      " #   Column          Non-Null Count   Dtype   \n",
      "---  ------          --------------   -----   \n",
      " 0   itemID          481092 non-null  int64   \n",
      " 1   size            481092 non-null  category\n",
      " 2   color           481092 non-null  category\n",
      " 3   manufacturerID  481092 non-null  int64   \n",
      " 4   price           481092 non-null  float64 \n",
      " 5   customerID      481092 non-null  int64   \n",
      " 6   salutation      481092 non-null  category\n",
      " 7   state           481092 non-null  category\n",
      " 8   returnShipment  481092 non-null  int64   \n",
      " 9   age             481092 non-null  int32   \n",
      " 10  accountAge      481092 non-null  int32   \n",
      " 11  shippingDays    481092 non-null  int32   \n",
      " 12  month_order     481092 non-null  category\n",
      " 13  season          481092 non-null  category\n",
      " 14  percent_return  481092 non-null  float64 \n",
      "dtypes: category(6), float64(2), int32(3), int64(4)\n",
      "memory usage: 30.3 MB\n"
     ]
    }
   ],
   "source": [
    "df_train.info()"
   ]
  },
  {
   "cell_type": "code",
   "execution_count": 15,
   "id": "b47fd22c",
   "metadata": {},
   "outputs": [
    {
     "data": {
      "text/html": [
       "<div>\n",
       "<style scoped>\n",
       "    .dataframe tbody tr th:only-of-type {\n",
       "        vertical-align: middle;\n",
       "    }\n",
       "\n",
       "    .dataframe tbody tr th {\n",
       "        vertical-align: top;\n",
       "    }\n",
       "\n",
       "    .dataframe thead th {\n",
       "        text-align: right;\n",
       "    }\n",
       "</style>\n",
       "<table border=\"1\" class=\"dataframe\">\n",
       "  <thead>\n",
       "    <tr style=\"text-align: right;\">\n",
       "      <th></th>\n",
       "      <th>itemID</th>\n",
       "      <th>size</th>\n",
       "      <th>color</th>\n",
       "      <th>manufacturerID</th>\n",
       "      <th>price</th>\n",
       "      <th>customerID</th>\n",
       "      <th>salutation</th>\n",
       "      <th>state</th>\n",
       "      <th>returnShipment</th>\n",
       "      <th>age</th>\n",
       "      <th>accountAge</th>\n",
       "      <th>shippingDays</th>\n",
       "      <th>month_order</th>\n",
       "      <th>season</th>\n",
       "      <th>percent_return</th>\n",
       "    </tr>\n",
       "  </thead>\n",
       "  <tbody>\n",
       "    <tr>\n",
       "      <th>0</th>\n",
       "      <td>186</td>\n",
       "      <td>M</td>\n",
       "      <td>denim</td>\n",
       "      <td>25</td>\n",
       "      <td>69.90</td>\n",
       "      <td>794</td>\n",
       "      <td>Mrs</td>\n",
       "      <td>Baden-Wuerttemberg</td>\n",
       "      <td>0</td>\n",
       "      <td>48</td>\n",
       "      <td>11</td>\n",
       "      <td>2</td>\n",
       "      <td>April</td>\n",
       "      <td>Spring</td>\n",
       "      <td>0.454545</td>\n",
       "    </tr>\n",
       "    <tr>\n",
       "      <th>1</th>\n",
       "      <td>71</td>\n",
       "      <td>M</td>\n",
       "      <td>ocher</td>\n",
       "      <td>21</td>\n",
       "      <td>69.95</td>\n",
       "      <td>794</td>\n",
       "      <td>Mrs</td>\n",
       "      <td>Baden-Wuerttemberg</td>\n",
       "      <td>1</td>\n",
       "      <td>48</td>\n",
       "      <td>11</td>\n",
       "      <td>2</td>\n",
       "      <td>April</td>\n",
       "      <td>Spring</td>\n",
       "      <td>0.454545</td>\n",
       "    </tr>\n",
       "    <tr>\n",
       "      <th>2</th>\n",
       "      <td>71</td>\n",
       "      <td>M</td>\n",
       "      <td>curry</td>\n",
       "      <td>21</td>\n",
       "      <td>69.95</td>\n",
       "      <td>794</td>\n",
       "      <td>Mrs</td>\n",
       "      <td>Baden-Wuerttemberg</td>\n",
       "      <td>1</td>\n",
       "      <td>48</td>\n",
       "      <td>11</td>\n",
       "      <td>2</td>\n",
       "      <td>April</td>\n",
       "      <td>Spring</td>\n",
       "      <td>0.454545</td>\n",
       "    </tr>\n",
       "    <tr>\n",
       "      <th>3</th>\n",
       "      <td>22</td>\n",
       "      <td>M</td>\n",
       "      <td>green</td>\n",
       "      <td>14</td>\n",
       "      <td>39.90</td>\n",
       "      <td>808</td>\n",
       "      <td>Mrs</td>\n",
       "      <td>Saxony</td>\n",
       "      <td>0</td>\n",
       "      <td>54</td>\n",
       "      <td>2</td>\n",
       "      <td>10</td>\n",
       "      <td>April</td>\n",
       "      <td>Spring</td>\n",
       "      <td>0.000000</td>\n",
       "    </tr>\n",
       "    <tr>\n",
       "      <th>4</th>\n",
       "      <td>151</td>\n",
       "      <td>S</td>\n",
       "      <td>black</td>\n",
       "      <td>53</td>\n",
       "      <td>29.90</td>\n",
       "      <td>825</td>\n",
       "      <td>Mrs</td>\n",
       "      <td>Rhineland-Palatinate</td>\n",
       "      <td>0</td>\n",
       "      <td>49</td>\n",
       "      <td>13</td>\n",
       "      <td>10</td>\n",
       "      <td>April</td>\n",
       "      <td>Spring</td>\n",
       "      <td>0.111111</td>\n",
       "    </tr>\n",
       "    <tr>\n",
       "      <th>5</th>\n",
       "      <td>598</td>\n",
       "      <td>XXL</td>\n",
       "      <td>brown</td>\n",
       "      <td>87</td>\n",
       "      <td>89.90</td>\n",
       "      <td>825</td>\n",
       "      <td>Mrs</td>\n",
       "      <td>Rhineland-Palatinate</td>\n",
       "      <td>0</td>\n",
       "      <td>49</td>\n",
       "      <td>13</td>\n",
       "      <td>10</td>\n",
       "      <td>April</td>\n",
       "      <td>Spring</td>\n",
       "      <td>0.111111</td>\n",
       "    </tr>\n",
       "    <tr>\n",
       "      <th>6</th>\n",
       "      <td>15</td>\n",
       "      <td>S</td>\n",
       "      <td>black</td>\n",
       "      <td>1</td>\n",
       "      <td>129.90</td>\n",
       "      <td>825</td>\n",
       "      <td>Mrs</td>\n",
       "      <td>Rhineland-Palatinate</td>\n",
       "      <td>0</td>\n",
       "      <td>49</td>\n",
       "      <td>13</td>\n",
       "      <td>10</td>\n",
       "      <td>April</td>\n",
       "      <td>Spring</td>\n",
       "      <td>0.111111</td>\n",
       "    </tr>\n",
       "    <tr>\n",
       "      <th>7</th>\n",
       "      <td>32</td>\n",
       "      <td>XXL</td>\n",
       "      <td>brown</td>\n",
       "      <td>3</td>\n",
       "      <td>21.90</td>\n",
       "      <td>850</td>\n",
       "      <td>Mrs</td>\n",
       "      <td>North Rhine-Westphalia</td>\n",
       "      <td>1</td>\n",
       "      <td>65</td>\n",
       "      <td>13</td>\n",
       "      <td>1</td>\n",
       "      <td>April</td>\n",
       "      <td>Spring</td>\n",
       "      <td>1.000000</td>\n",
       "    </tr>\n",
       "    <tr>\n",
       "      <th>8</th>\n",
       "      <td>32</td>\n",
       "      <td>XXL</td>\n",
       "      <td>red</td>\n",
       "      <td>3</td>\n",
       "      <td>21.90</td>\n",
       "      <td>850</td>\n",
       "      <td>Mrs</td>\n",
       "      <td>North Rhine-Westphalia</td>\n",
       "      <td>1</td>\n",
       "      <td>65</td>\n",
       "      <td>13</td>\n",
       "      <td>1</td>\n",
       "      <td>April</td>\n",
       "      <td>Spring</td>\n",
       "      <td>1.000000</td>\n",
       "    </tr>\n",
       "    <tr>\n",
       "      <th>9</th>\n",
       "      <td>57</td>\n",
       "      <td>XXL</td>\n",
       "      <td>green</td>\n",
       "      <td>3</td>\n",
       "      <td>39.90</td>\n",
       "      <td>850</td>\n",
       "      <td>Mrs</td>\n",
       "      <td>North Rhine-Westphalia</td>\n",
       "      <td>1</td>\n",
       "      <td>65</td>\n",
       "      <td>13</td>\n",
       "      <td>1</td>\n",
       "      <td>April</td>\n",
       "      <td>Spring</td>\n",
       "      <td>1.000000</td>\n",
       "    </tr>\n",
       "  </tbody>\n",
       "</table>\n",
       "</div>"
      ],
      "text/plain": [
       "   itemID size  color  manufacturerID   price  customerID salutation  \\\n",
       "0     186    M  denim              25   69.90         794        Mrs   \n",
       "1      71    M  ocher              21   69.95         794        Mrs   \n",
       "2      71    M  curry              21   69.95         794        Mrs   \n",
       "3      22    M  green              14   39.90         808        Mrs   \n",
       "4     151    S  black              53   29.90         825        Mrs   \n",
       "5     598  XXL  brown              87   89.90         825        Mrs   \n",
       "6      15    S  black               1  129.90         825        Mrs   \n",
       "7      32  XXL  brown               3   21.90         850        Mrs   \n",
       "8      32  XXL    red               3   21.90         850        Mrs   \n",
       "9      57  XXL  green               3   39.90         850        Mrs   \n",
       "\n",
       "                    state  returnShipment  age  accountAge  shippingDays  \\\n",
       "0      Baden-Wuerttemberg               0   48          11             2   \n",
       "1      Baden-Wuerttemberg               1   48          11             2   \n",
       "2      Baden-Wuerttemberg               1   48          11             2   \n",
       "3                  Saxony               0   54           2            10   \n",
       "4    Rhineland-Palatinate               0   49          13            10   \n",
       "5    Rhineland-Palatinate               0   49          13            10   \n",
       "6    Rhineland-Palatinate               0   49          13            10   \n",
       "7  North Rhine-Westphalia               1   65          13             1   \n",
       "8  North Rhine-Westphalia               1   65          13             1   \n",
       "9  North Rhine-Westphalia               1   65          13             1   \n",
       "\n",
       "  month_order  season  percent_return  \n",
       "0       April  Spring        0.454545  \n",
       "1       April  Spring        0.454545  \n",
       "2       April  Spring        0.454545  \n",
       "3       April  Spring        0.000000  \n",
       "4       April  Spring        0.111111  \n",
       "5       April  Spring        0.111111  \n",
       "6       April  Spring        0.111111  \n",
       "7       April  Spring        1.000000  \n",
       "8       April  Spring        1.000000  \n",
       "9       April  Spring        1.000000  "
      ]
     },
     "execution_count": 15,
     "metadata": {},
     "output_type": "execute_result"
    }
   ],
   "source": [
    "df_train.head(10)"
   ]
  },
  {
   "cell_type": "markdown",
   "id": "81784b16",
   "metadata": {},
   "source": [
    "# One-hot encoding"
   ]
  },
  {
   "cell_type": "code",
   "execution_count": 16,
   "id": "437ab7a8",
   "metadata": {},
   "outputs": [],
   "source": [
    "df_class = pd.get_dummies(data=df_class, columns=['color', 'salutation','state','size', 'month_order', 'season'])\n",
    "df_train = pd.get_dummies(data=df_train, columns=['color', 'salutation','state','size', 'month_order', 'season'])"
   ]
  },
  {
   "cell_type": "markdown",
   "id": "19a78499",
   "metadata": {},
   "source": [
    "# Sesuaikan atribut yang terdapat pada data train dan data class"
   ]
  },
  {
   "cell_type": "code",
   "execution_count": 17,
   "id": "b3cb85d6",
   "metadata": {},
   "outputs": [],
   "source": [
    "df_train = df_train.drop(['color_amethyst', 'color_aviator', 'color_avocado', 'color_bronze', 'color_brwon', 'color_caramel', 'color_champagner', 'color_cobalt blue', 'color_copper coin', 'color_cortina mocca', 'color_creme', 'color_curled', 'color_currant purple', 'color_dark garnet', 'color_dark grey', 'color_ebony', 'color_ivory', 'color_mango', 'color_opal', 'color_perlmutt', 'color_unknown', 'color_vanille' ,'month_order_August', 'month_order_December', 'month_order_February', 'month_order_January', 'month_order_July', 'month_order_June', 'month_order_March', 'month_order_May', 'month_order_November', 'month_order_October', 'month_order_September', 'season_Autumn', 'season_Summer', 'season_Winter'], axis = 1)\n"
   ]
  },
  {
   "cell_type": "markdown",
   "id": "486fefa1",
   "metadata": {},
   "source": [
    "Hapus atribut pada data train yang tidak terdapat pada data class"
   ]
  },
  {
   "cell_type": "markdown",
   "id": "c2832e53",
   "metadata": {},
   "source": [
    "# Kelas Target"
   ]
  },
  {
   "cell_type": "code",
   "execution_count": 18,
   "id": "042ccc99",
   "metadata": {},
   "outputs": [],
   "source": [
    "from sklearn import preprocessing\n",
    "le = preprocessing.LabelEncoder()\n",
    "le.fit(df_train['returnShipment'])\n",
    "Y = le.transform(df_train['returnShipment'])"
   ]
  },
  {
   "cell_type": "code",
   "execution_count": 19,
   "id": "d71e4283",
   "metadata": {},
   "outputs": [],
   "source": [
    "X = df_train.drop('returnShipment',axis=1)"
   ]
  },
  {
   "cell_type": "markdown",
   "id": "5ef5225b",
   "metadata": {},
   "source": [
    "Target yang digunakan yaitu returnShipment, sehingga akan diprediksi nantinya apakah barang akan di return atau tidak"
   ]
  },
  {
   "cell_type": "markdown",
   "id": "1bc3d18f",
   "metadata": {},
   "source": [
    "# Split Dataset"
   ]
  },
  {
   "cell_type": "code",
   "execution_count": 20,
   "id": "092b15a1",
   "metadata": {},
   "outputs": [],
   "source": [
    "from sklearn.model_selection import train_test_split\n",
    "X_train,X_test,Y_train,Y_test=train_test_split(X,Y,test_size=0.2,random_state=123)\n",
    "#simpan nama kolom untuk keperluan prediksi nanti\n",
    "import pickle\n",
    "with open('D:orders_x_train_columns.pickle', 'wb') as fp:\n",
    "    pickle.dump(X_train.columns, fp)\n",
    "\n",
    "from sklearn.model_selection import train_test_split\n",
    "# X_train,X_test,Y_train,Y_test=train_test_split(X,Y,test_size=0.2,random_state=123)"
   ]
  },
  {
   "cell_type": "markdown",
   "id": "7655cb81",
   "metadata": {},
   "source": [
    "Dataset dibagi, sebagian untuk data training dan sebagian untuk data test"
   ]
  },
  {
   "cell_type": "markdown",
   "id": "293e19b5",
   "metadata": {},
   "source": [
    "# Model menggunakan XGBOOST"
   ]
  },
  {
   "cell_type": "markdown",
   "id": "ead07369",
   "metadata": {},
   "source": [
    "#### Naive Bayes"
   ]
  },
  {
   "cell_type": "code",
   "execution_count": 34,
   "id": "754bf5f6",
   "metadata": {
    "scrolled": true
   },
   "outputs": [
    {
     "name": "stdout",
     "output_type": "stream",
     "text": [
      "Akurasi 0.6083621737910392\n",
      "              precision    recall  f1-score   support\n",
      "\n",
      "           0       0.60      0.74      0.66     49723\n",
      "           1       0.63      0.47      0.54     46496\n",
      "\n",
      "    accuracy                           0.61     96219\n",
      "   macro avg       0.61      0.60      0.60     96219\n",
      "weighted avg       0.61      0.61      0.60     96219\n",
      "\n"
     ]
    }
   ],
   "source": [
    "from sklearn.naive_bayes import GaussianNB\n",
    "from sklearn.metrics import classification_report\n",
    "from sklearn.metrics import accuracy_score\n",
    "\n",
    "clf1 = GaussianNB()\n",
    "clf1.fit(X_train, Y_train)\n",
    "Y_pred = clf1.predict(X_test)\n",
    "acc = accuracy_score(Y_test, Y_pred)\n",
    "print(\"Akurasi {}\".format(acc))\n",
    "print(classification_report(Y_test, Y_pred))"
   ]
  },
  {
   "cell_type": "markdown",
   "id": "e6681308",
   "metadata": {},
   "source": [
    "Dengan menggunakan naive bayes, skor f1-1 mencapai angka 0.54"
   ]
  },
  {
   "cell_type": "markdown",
   "id": "68f322d7",
   "metadata": {},
   "source": [
    "#### Decision Tree"
   ]
  },
  {
   "cell_type": "code",
   "execution_count": 35,
   "id": "a8050f8a",
   "metadata": {},
   "outputs": [
    {
     "name": "stdout",
     "output_type": "stream",
     "text": [
      "Akurasi 0.6867250750891196\n",
      "              precision    recall  f1-score   support\n",
      "\n",
      "           0       0.70      0.70      0.70     49723\n",
      "           1       0.68      0.67      0.68     46496\n",
      "\n",
      "    accuracy                           0.69     96219\n",
      "   macro avg       0.69      0.69      0.69     96219\n",
      "weighted avg       0.69      0.69      0.69     96219\n",
      "\n"
     ]
    }
   ],
   "source": [
    "from sklearn import tree\n",
    "clf2 = tree.DecisionTreeClassifier()\n",
    "clf2.fit(X_train, Y_train)\n",
    "Y_pred = clf2.predict(X_test)\n",
    "acc = accuracy_score(Y_test, Y_pred)\n",
    "print(\"Akurasi {}\".format(acc))\n",
    "print(classification_report(Y_test, Y_pred))"
   ]
  },
  {
   "cell_type": "markdown",
   "id": "3cd4b5b3",
   "metadata": {},
   "source": [
    "Dengan menggunakan decision tree, skor f1-1 mencapai angka 0.68"
   ]
  },
  {
   "cell_type": "markdown",
   "id": "5e889ef6",
   "metadata": {},
   "source": [
    "#### Random Forest"
   ]
  },
  {
   "cell_type": "code",
   "execution_count": 36,
   "id": "18c21023",
   "metadata": {},
   "outputs": [
    {
     "name": "stdout",
     "output_type": "stream",
     "text": [
      "Akurasi 0.7472016961307019\n",
      "              precision    recall  f1-score   support\n",
      "\n",
      "           0       0.76      0.74      0.75     49723\n",
      "           1       0.73      0.76      0.74     46496\n",
      "\n",
      "    accuracy                           0.75     96219\n",
      "   macro avg       0.75      0.75      0.75     96219\n",
      "weighted avg       0.75      0.75      0.75     96219\n",
      "\n"
     ]
    }
   ],
   "source": [
    "from sklearn.ensemble import RandomForestClassifier\n",
    "clf3 = RandomForestClassifier(n_estimators=50, random_state=123)\n",
    "clf3.fit(X_train, Y_train)\n",
    "Y_pred = clf3.predict(X_test)\n",
    "acc = accuracy_score(Y_test, Y_pred)\n",
    "print(\"Akurasi {}\".format(acc))\n",
    "print(classification_report(Y_test, Y_pred))"
   ]
  },
  {
   "cell_type": "markdown",
   "id": "b61c4235",
   "metadata": {},
   "source": [
    "Dengan menggunakan random forest, skor f1-1 mencapai angka 0.74"
   ]
  },
  {
   "cell_type": "markdown",
   "id": "0057ad6c",
   "metadata": {},
   "source": [
    "#### XGBOOST"
   ]
  },
  {
   "cell_type": "code",
   "execution_count": 21,
   "id": "1317e12a",
   "metadata": {},
   "outputs": [],
   "source": [
    "import xgboost as xgb\n",
    "from sklearn.metrics import classification_report\n",
    "from sklearn.metrics import accuracy_score"
   ]
  },
  {
   "cell_type": "code",
   "execution_count": 22,
   "id": "74a10a00",
   "metadata": {
    "scrolled": false
   },
   "outputs": [
    {
     "name": "stdout",
     "output_type": "stream",
     "text": [
      "Akurasi 0.7632796017418597\n",
      "              precision    recall  f1-score   support\n",
      "\n",
      "           0       0.80      0.73      0.76     49723\n",
      "           1       0.73      0.80      0.77     46496\n",
      "\n",
      "    accuracy                           0.76     96219\n",
      "   macro avg       0.76      0.76      0.76     96219\n",
      "weighted avg       0.77      0.76      0.76     96219\n",
      "\n"
     ]
    }
   ],
   "source": [
    "clf = xgb.XGBClassifier(objective='binary:logistic', eval_metric =\n",
    "\"mlogloss\", max_depth = 10, gamma=0.1, subsample = 0.8, learning_rate=0.1,\n",
    "n_estimators = 140, nthread=4)\n",
    "clf.fit(X_train, Y_train)\n",
    "Y_pred = clf.predict(X_test)\n",
    "acc = accuracy_score(Y_test, Y_pred)\n",
    "print(\"Akurasi {}\".format(acc))\n",
    "print(classification_report(Y_test, Y_pred))"
   ]
  },
  {
   "cell_type": "markdown",
   "id": "57b77613",
   "metadata": {},
   "source": [
    "Dengan menggunakan xgboost, skor f1-1 mencapai angka 0.77"
   ]
  },
  {
   "cell_type": "markdown",
   "id": "6f2831d9",
   "metadata": {},
   "source": [
    "Algoritma xgboost memiliki skor f1-1 yang paling tinggi dibandingkan dengan decision tree, naive bayes maupun random forest. Sehingga model ini yang akan digunakan nantinya untuk memprediksi data"
   ]
  },
  {
   "cell_type": "markdown",
   "id": "da8ad485",
   "metadata": {},
   "source": [
    "#### Memeriksa fitur yang paling penting bagi model"
   ]
  },
  {
   "cell_type": "code",
   "execution_count": 38,
   "id": "e6096475",
   "metadata": {},
   "outputs": [
    {
     "name": "stdout",
     "output_type": "stream",
     "text": [
      "                    importance\n",
      "percent_return        0.184158\n",
      "shippingDays          0.052583\n",
      "price                 0.022339\n",
      "color_pallid          0.012993\n",
      "manufacturerID        0.010762\n",
      "...                        ...\n",
      "color_leopard         0.000000\n",
      "color_almond          0.000000\n",
      "color_antique pink    0.000000\n",
      "color_oliv            0.000000\n",
      "color_lemon           0.000000\n",
      "\n",
      "[105 rows x 1 columns]\n"
     ]
    }
   ],
   "source": [
    "feature_importances = pd.DataFrame(clf.feature_importances_,index = X_train.columns,\n",
    "columns=['importance']).sort_values('importance',ascending=False)\n",
    "print(feature_importances)"
   ]
  },
  {
   "cell_type": "markdown",
   "id": "c1a96c83",
   "metadata": {},
   "source": [
    "Fitur-fitur yang paling berpengaruh terhadap prediksi pengembalian barang, diantaranya percent return, shipping day, price, color_pallid, dan manufacturer ID. Percent return sangat berpengaruh dalam keputusan pengembalian barang, karena semakin tinggi persentase pengembalian barang yg dilakukan oleh customer, maka semakin besar kemungkinan customer tersebut melakukan pengembalian barang lagi di kemudian hari. Kemudian, ada shipping days dimana waktu pengiriman juga cukup berpengaruh dalam keputusan pengembalian barang, bisa saja barang yang terlalu lama dikirim membuat customer sudah tidak membutuhkannya lagi dan di return. Kemudian ada price, semakin mahal harga barang maka akan semakin tinggi kemungkinan dikembalikan jika tidak sesuai dengan pesanan customer. "
   ]
  },
  {
   "cell_type": "markdown",
   "id": "5ce6ca2f",
   "metadata": {},
   "source": [
    "### Menyimpan model dan memprediksi data baru\n",
    "#### Simpan model"
   ]
  },
  {
   "cell_type": "code",
   "execution_count": 27,
   "id": "151ba349",
   "metadata": {
    "scrolled": false
   },
   "outputs": [
    {
     "data": {
      "text/plain": [
       "['D:\\\\orders_train.joblib']"
      ]
     },
     "execution_count": 27,
     "metadata": {},
     "output_type": "execute_result"
    }
   ],
   "source": [
    "import joblib\n",
    "joblib.dump(clf, \"D:\\\\orders_train.joblib\")"
   ]
  },
  {
   "cell_type": "markdown",
   "id": "7ad60a56",
   "metadata": {},
   "source": [
    "Menyimpan model hasil train dengan menggunakan library joblib, model yang digunakan adalah model xgboost"
   ]
  },
  {
   "cell_type": "markdown",
   "id": "9f5c0e45",
   "metadata": {},
   "source": [
    "#### Masukkan data yang akan diprediksi"
   ]
  },
  {
   "cell_type": "code",
   "execution_count": 28,
   "id": "7eeb964d",
   "metadata": {},
   "outputs": [],
   "source": [
    "for i in df_train['customerID'].unique():\n",
    "  df_class.loc[(df_class['customerID'] == i), \"percent_return\"] = df_train[(df_train['customerID'] == i)]['percent_return'].values[0]"
   ]
  },
  {
   "cell_type": "code",
   "execution_count": 29,
   "id": "ab13d3b6",
   "metadata": {},
   "outputs": [],
   "source": [
    "df_class2 = df_class"
   ]
  },
  {
   "cell_type": "markdown",
   "id": "c53abf35",
   "metadata": {},
   "source": [
    "Samakan data yang akan diprediksi dengan data training"
   ]
  },
  {
   "cell_type": "code",
   "execution_count": 30,
   "id": "e58e5a22",
   "metadata": {},
   "outputs": [],
   "source": [
    "import pickle\n",
    "with open('D:orders_x_train_columns.pickle', 'rb') as fp:\n",
    "    X_train_column = list(pickle.load(fp))\n",
    "df_class2 = df_class2[X_train_column]"
   ]
  },
  {
   "cell_type": "markdown",
   "id": "7fff5dd8",
   "metadata": {},
   "source": [
    "Menyimpan nama kolom sebelum proses training"
   ]
  },
  {
   "cell_type": "code",
   "execution_count": 31,
   "id": "e93d4d3a",
   "metadata": {},
   "outputs": [
    {
     "data": {
      "text/plain": [
       "array([0, 0, 0, ..., 1, 0, 0])"
      ]
     },
     "execution_count": 31,
     "metadata": {},
     "output_type": "execute_result"
    }
   ],
   "source": [
    "import joblib\n",
    "clf = joblib.load(\"D:\\\\orders_train.joblib\")\n",
    "clf.predict(df_class2)"
   ]
  },
  {
   "cell_type": "markdown",
   "id": "582b132b",
   "metadata": {},
   "source": [
    "Load dan prediksi data menggunakan model yang sudah disimpan tadi"
   ]
  },
  {
   "cell_type": "code",
   "execution_count": 41,
   "id": "219ccf0c",
   "metadata": {},
   "outputs": [],
   "source": [
    "i = 1 \n",
    "with open(\"D://Kuliah//Data Mining//order_class.txt\", \"w\") as o:\n",
    "    print(\"{0};{1}\".format(\"orderItemID\", \"prediction\"), file = o)     \n",
    "    for line in clf.predict(df_class2):         \n",
    "        print(\"{0};{1}\".format(i, line), file=o)         \n",
    "        i+=1"
   ]
  },
  {
   "cell_type": "markdown",
   "id": "16d27798",
   "metadata": {},
   "source": [
    "Data hasil prediksi akan di tulis dan diexport ke sebuah file bernamakan order_class dengan format .txt"
   ]
  },
  {
   "cell_type": "markdown",
   "id": "378d5d70",
   "metadata": {},
   "source": []
  }
 ],
 "metadata": {
  "kernelspec": {
   "display_name": "Python 3 (ipykernel)",
   "language": "python",
   "name": "python3"
  },
  "language_info": {
   "codemirror_mode": {
    "name": "ipython",
    "version": 3
   },
   "file_extension": ".py",
   "mimetype": "text/x-python",
   "name": "python",
   "nbconvert_exporter": "python",
   "pygments_lexer": "ipython3",
   "version": "3.9.12"
  }
 },
 "nbformat": 4,
 "nbformat_minor": 5
}
